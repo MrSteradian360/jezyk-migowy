{
  "nbformat": 4,
  "nbformat_minor": 0,
  "metadata": {
    "colab": {
      "provenance": [],
      "machine_shape": "hm"
    },
    "kernelspec": {
      "name": "python3",
      "display_name": "Python 3"
    },
    "language_info": {
      "name": "python"
    },
    "gpuClass": "standard"
  },
  "cells": [
    {
      "cell_type": "code",
      "source": [
        "!pip install mediapipe"
      ],
      "metadata": {
        "id": "eFILTowBt1c6"
      },
      "execution_count": null,
      "outputs": []
    },
    {
      "cell_type": "code",
      "source": [
        "import os\n",
        "import cv2\n",
        "import numpy as np\n",
        "import mediapipe as mp\n",
        "from google.colab import drive\n",
        "import tensorflow as tf\n",
        "drive.mount('/content/drive')"
      ],
      "metadata": {
        "colab": {
          "base_uri": "https://localhost:8080/"
        },
        "id": "E5PmmUdrtwTQ",
        "outputId": "38239af0-56ee-4e89-a955-f207a5c6e5dc"
      },
      "execution_count": null,
      "outputs": [
        {
          "output_type": "stream",
          "name": "stdout",
          "text": [
            "Drive already mounted at /content/drive; to attempt to forcibly remount, call drive.mount(\"/content/drive\", force_remount=True).\n"
          ]
        }
      ]
    },
    {
      "cell_type": "code",
      "source": [
        "mp_hands = mp.solutions.hands\n",
        "hands = mp_hands.Hands(static_image_mode=True, max_num_hands=1, min_detection_confidence=0.5)"
      ],
      "metadata": {
        "id": "h-QTOQP4uGux"
      },
      "execution_count": null,
      "outputs": []
    },
    {
      "cell_type": "code",
      "source": [
        "def get_hand_keypoints_2d(image_path):\n",
        "    image = cv2.imread(image_path)\n",
        "    if image is None:\n",
        "        print(f\"Error loading image: {image_path}\")\n",
        "        return None\n",
        "\n",
        "    image_rgb = cv2.cvtColor(image, cv2.COLOR_BGR2RGB)\n",
        "    results = hands.process(image_rgb)\n",
        "\n",
        "    if results.multi_hand_landmarks:\n",
        "        keypoints = []\n",
        "        for hand_landmarks in results.multi_hand_landmarks:\n",
        "            for lm in hand_landmarks.landmark:\n",
        "                keypoints.append([lm.x, lm.y, lm.z])\n",
        "        return np.array(keypoints).flatten()\n",
        "    else:\n",
        "        return None"
      ],
      "metadata": {
        "id": "OM5ifmYXuIai"
      },
      "execution_count": null,
      "outputs": []
    },
    {
      "cell_type": "code",
      "source": [
        "def get_hand_keypoints_2d(image_path):\n",
        "    image = cv2.imread(image_path)\n",
        "    if image is None:\n",
        "        print(f\"Error loading image: {image_path}\")\n",
        "        return None\n",
        "\n",
        "    image_rgb = cv2.cvtColor(image, cv2.COLOR_BGR2RGB)\n",
        "    results = hands.process(image_rgb)\n",
        "\n",
        "    if results.multi_hand_landmarks:\n",
        "        keypoints = []\n",
        "        for hand_landmarks in results.multi_hand_landmarks:\n",
        "            for lm in hand_landmarks.landmark:\n",
        "                keypoints.append([lm.x, lm.y])\n",
        "        return np.array(keypoints).flatten()\n",
        "    else:\n",
        "        return None"
      ],
      "metadata": {
        "id": "a_B5g1CLdyZS"
      },
      "execution_count": null,
      "outputs": []
    },
    {
      "cell_type": "code",
      "source": [
        "#zapisywanie keypointów ze zdjęć, nie trzeba tego odpalać\n",
        "data_dir = \"/content/drive/MyDrive/ED/asl_alphabet_train\"\n",
        "output_dir = \"/content/drive/MyDrive/ED/keypoints2d\"\n",
        "\n",
        "if not os.path.exists(output_dir):\n",
        "    os.makedirs(output_dir)\n",
        "for label, folder in enumerate(os.listdir(data_dir)):\n",
        "    print(label, folder)\n",
        "    folder_path = os.path.join(data_dir, folder)\n",
        "    if os.path.isdir(folder_path):\n",
        "        for image_name in os.listdir(folder_path):\n",
        "            image_path = os.path.join(folder_path, image_name)\n",
        "            keypoints = get_hand_keypoints_2d(image_path)\n",
        "            if keypoints is not None:\n",
        "                output_file = os.path.join(output_dir, f\"{folder}_{image_name.split('.')[0]}.npy\")\n",
        "                np.save(output_file, keypoints)\n"
      ],
      "metadata": {
        "id": "I0uxHKCUuNrE"
      },
      "execution_count": null,
      "outputs": []
    },
    {
      "cell_type": "code",
      "source": [
        "keypoints_dir = \"/content/drive/MyDrive/ED/keypoints\"\n",
        "keypoints_data = []\n",
        "keypoints_labels = []\n",
        "\n",
        "for file_name in os.listdir(keypoints_dir):\n",
        "    print(file_name)\n",
        "    file_path = os.path.join(keypoints_dir, file_name)\n",
        "    keypoints = np.load(file_path)\n",
        "    label = file_name[0]  # Get the first letter of the file name as the label\n",
        "    \n",
        "    keypoints_data.append(keypoints)\n",
        "    keypoints_labels.append(label)\n",
        "\n",
        "keypoints_data = np.array(keypoints_data)\n",
        "keypoints_labels = np.array(keypoints_labels)"
      ],
      "metadata": {
        "id": "oSeRptS2cTyT"
      },
      "execution_count": null,
      "outputs": []
    },
    {
      "cell_type": "code",
      "source": [
        "unique_labels = sorted(list(set(keypoints_labels)))\n",
        "label_to_int = {label: i for i, label in enumerate(unique_labels)}"
      ],
      "metadata": {
        "id": "6FXggPqkdOa6"
      },
      "execution_count": null,
      "outputs": []
    },
    {
      "cell_type": "code",
      "source": [
        "keypoints_labels_int = np.array([label_to_int[label] for label in keypoints_labels])"
      ],
      "metadata": {
        "id": "Fn0JYHwBdO7y"
      },
      "execution_count": null,
      "outputs": []
    },
    {
      "cell_type": "code",
      "source": [
        "#model do keypointów 3d (mozliwe ze nie dziala za dobrze xd)\n",
        "num_classes = len(unique_labels)\n",
        "input_dim = 21 * 3\n",
        "\n",
        "model = tf.keras.Sequential([\n",
        "    tf.keras.layers.Input(shape=(input_dim,)),\n",
        "    tf.keras.layers.Dense(128, activation='relu'),\n",
        "    tf.keras.layers.Dropout(0.2),\n",
        "    tf.keras.layers.Dense(64, activation='relu'),\n",
        "    tf.keras.layers.Dropout(0.2),\n",
        "    tf.keras.layers.Dense(num_classes, activation='softmax')\n",
        "])\n",
        "\n",
        "model.summary()"
      ],
      "metadata": {
        "id": "99Oa5J0zdQS6"
      },
      "execution_count": null,
      "outputs": []
    },
    {
      "cell_type": "code",
      "source": [
        "model.compile(optimizer='adam',\n",
        "              loss=tf.keras.losses.SparseCategoricalCrossentropy(from_logits=False),\n",
        "              metrics=['accuracy'])"
      ],
      "metadata": {
        "id": "xLI3n1cpdSkL"
      },
      "execution_count": null,
      "outputs": []
    },
    {
      "cell_type": "code",
      "source": [
        "epochs = 25\n",
        "history = model.fit(keypoints_data, keypoints_labels_int, epochs = epochs)"
      ],
      "metadata": {
        "id": "jMGR5YsfdbYI"
      },
      "execution_count": null,
      "outputs": []
    },
    {
      "cell_type": "code",
      "source": [
        "model.save('/content/drive/MyDrive/ED/trained_model2')"
      ],
      "metadata": {
        "id": "apicP4lTdq8-",
        "colab": {
          "base_uri": "https://localhost:8080/"
        },
        "outputId": "1fbba477-7c7e-49b2-9dd8-f84ab80f75b5"
      },
      "execution_count": null,
      "outputs": [
        {
          "output_type": "stream",
          "name": "stderr",
          "text": [
            "WARNING:absl:Found untraced functions such as _update_step_xla while saving (showing 1 of 1). These functions will not be directly callable after loading.\n"
          ]
        }
      ]
    },
    {
      "cell_type": "code",
      "source": [
        "model_path = \"/content/drive/MyDrive/ED/trained_model\"\n",
        "model = tf.keras.models.load_model(model_path)"
      ],
      "metadata": {
        "id": "uMLhQsoQfLWA"
      },
      "execution_count": null,
      "outputs": []
    }
  ]
}